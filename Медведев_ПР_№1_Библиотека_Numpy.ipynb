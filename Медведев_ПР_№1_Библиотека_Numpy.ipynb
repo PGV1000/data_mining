{
  "nbformat": 4,
  "nbformat_minor": 0,
  "metadata": {
    "colab": {
      "provenance": [],
      "include_colab_link": true
    },
    "kernelspec": {
      "name": "python3",
      "display_name": "Python 3"
    },
    "language_info": {
      "name": "python"
    }
  },
  "cells": [
    {
      "cell_type": "markdown",
      "metadata": {
        "id": "view-in-github",
        "colab_type": "text"
      },
      "source": [
        "<a href=\"https://colab.research.google.com/github/PGV1000/data_mining/blob/main/%D0%9C%D0%B5%D0%B4%D0%B2%D0%B5%D0%B4%D0%B5%D0%B2_%D0%9F%D0%A0_%E2%84%961_%D0%91%D0%B8%D0%B1%D0%BB%D0%B8%D0%BE%D1%82%D0%B5%D0%BA%D0%B0_Numpy.ipynb\" target=\"_parent\"><img src=\"https://colab.research.google.com/assets/colab-badge.svg\" alt=\"Open In Colab\"/></a>"
      ]
    },
    {
      "cell_type": "markdown",
      "source": [
        "# Практическая работа №1. Библиотека Numpy"
      ],
      "metadata": {
        "id": "UWwDMeEJKRm-"
      }
    },
    {
      "cell_type": "markdown",
      "source": [
        "## Полезные материалы\n",
        "- [Блокнот с полной теорией](https://colab.research.google.com/drive/1JlqwrIRsmnc9rW6Tj1XNgrtk--43dKvT?usp=sharing)\n",
        "- [Блокнот с краткой теорией](https://colab.research.google.com/drive/1elIYEseXIidm5UUXnjgzWUehisw_OQ0w?usp=sharing)\n",
        "- [Шпаргалка по numpy](https://s3.amazonaws.com/assets.datacamp.com/blog_assets/Numpy_Python_Cheat_Sheet.pdf)\n",
        "- [Numpy quick start](https://docs.scipy.org/doc/numpy/user/quickstart.html)\n",
        "- [Datacamp numpy tutorial](https://www.datacamp.com/community/tutorials/python-numpy-tutorial)"
      ],
      "metadata": {
        "id": "9jGLF6idKPrn"
      }
    },
    {
      "cell_type": "markdown",
      "source": [
        "## **Блок №1. Базовый уровень**"
      ],
      "metadata": {
        "id": "mVaRu-_wJJYV"
      }
    },
    {
      "cell_type": "markdown",
      "source": [
        "Установите зависимость с библиотекой NumPy:"
      ],
      "metadata": {
        "id": "gAEs6SaMMmzx"
      }
    },
    {
      "cell_type": "code",
      "source": [
        "import numpy as np"
      ],
      "metadata": {
        "id": "GqZb9OydMn0V"
      },
      "execution_count": null,
      "outputs": []
    },
    {
      "cell_type": "markdown",
      "source": [
        "### **Задание №1. Создание массивов:**"
      ],
      "metadata": {
        "id": "JK4lWYl2OAKA"
      }
    },
    {
      "cell_type": "markdown",
      "source": [
        "а) Создайте одномерный массив из 10 нулей:\n"
      ],
      "metadata": {
        "id": "tlxGmZzNN_B3"
      }
    },
    {
      "cell_type": "code",
      "source": [
        "zeros_1x10 = np.zeros((10))\n",
        "print(zeros_1x10)"
      ],
      "metadata": {
        "id": "_dv6zFBzN_PH",
        "colab": {
          "base_uri": "https://localhost:8080/"
        },
        "outputId": "d8c2b5d7-fc58-425c-a4bd-71db4a4c6e6c"
      },
      "execution_count": null,
      "outputs": [
        {
          "output_type": "stream",
          "name": "stdout",
          "text": [
            "[0. 0. 0. 0. 0. 0. 0. 0. 0. 0.]\n"
          ]
        }
      ]
    },
    {
      "cell_type": "markdown",
      "source": [
        "б) Создайте двумерный массив с размерностью 5x5, заполненный единицами:"
      ],
      "metadata": {
        "id": "lE5txzg1N_YO"
      }
    },
    {
      "cell_type": "code",
      "source": [
        "ones_5x5 = np.ones((5,5))\n",
        "print(ones_5x5)"
      ],
      "metadata": {
        "id": "TCCsY7EJN_hY",
        "colab": {
          "base_uri": "https://localhost:8080/"
        },
        "outputId": "1d508820-3501-420c-bc90-0953729d0a78"
      },
      "execution_count": null,
      "outputs": [
        {
          "output_type": "stream",
          "name": "stdout",
          "text": [
            "[[1. 1. 1. 1. 1.]\n",
            " [1. 1. 1. 1. 1.]\n",
            " [1. 1. 1. 1. 1.]\n",
            " [1. 1. 1. 1. 1.]\n",
            " [1. 1. 1. 1. 1.]]\n"
          ]
        }
      ]
    },
    {
      "cell_type": "markdown",
      "source": [
        "в) Создайте массив с размерностью 3x3x3 со случайными значениями:"
      ],
      "metadata": {
        "id": "ewdOYjTSN_p-"
      }
    },
    {
      "cell_type": "code",
      "source": [
        "random_3x3x3 = np.random.rand(3,3,3)\n",
        "print(random_3x3x3)"
      ],
      "metadata": {
        "id": "UT2FWQ8jN_zE",
        "colab": {
          "base_uri": "https://localhost:8080/"
        },
        "outputId": "946dce8f-37d3-4af7-d119-774ffc7781bd"
      },
      "execution_count": null,
      "outputs": [
        {
          "output_type": "stream",
          "name": "stdout",
          "text": [
            "[[[1.07819342e-01 8.63487578e-01 1.80165584e-01]\n",
            "  [6.32376037e-01 2.99278513e-01 9.30684794e-01]\n",
            "  [5.90602148e-01 2.41559842e-01 4.47176997e-02]]\n",
            "\n",
            " [[7.08099208e-02 1.17657060e-01 9.05712424e-01]\n",
            "  [4.13835467e-04 6.93884998e-01 9.42669485e-01]\n",
            "  [4.76037200e-01 1.12503300e-01 1.49744795e-01]]\n",
            "\n",
            " [[3.22826767e-01 7.83428210e-01 3.84591284e-01]\n",
            "  [4.44515284e-01 2.56142797e-01 4.14132537e-01]\n",
            "  [5.03036648e-01 9.19637191e-01 7.66680007e-01]]]\n"
          ]
        }
      ]
    },
    {
      "cell_type": "markdown",
      "source": [
        "### **Задание №2. Индексация и срезы:**"
      ],
      "metadata": {
        "id": "tU02ZhoCTWlS"
      }
    },
    {
      "cell_type": "markdown",
      "source": [
        "а) Извлеките второй элемент из созданного одномерного массива нулей:"
      ],
      "metadata": {
        "id": "28eFhkdPTXHL"
      }
    },
    {
      "cell_type": "code",
      "source": [
        "zeros_1x10_second_element = zeros_1x10[1]\n",
        "print(zeros_1x10_second_element)"
      ],
      "metadata": {
        "id": "nwpFpMOMTXP5",
        "colab": {
          "base_uri": "https://localhost:8080/"
        },
        "outputId": "69391785-3d85-433b-c585-32b70c581fa8"
      },
      "execution_count": null,
      "outputs": [
        {
          "output_type": "stream",
          "name": "stdout",
          "text": [
            "0.0\n"
          ]
        }
      ]
    },
    {
      "cell_type": "markdown",
      "source": [
        "б) Выберите вторую строку из двумерного массива единиц:"
      ],
      "metadata": {
        "id": "8WHTy4tBTXZP"
      }
    },
    {
      "cell_type": "code",
      "source": [
        "ones_5x5_second_row = ones_5x5[1]\n",
        "print(ones_5x5_second_row)"
      ],
      "metadata": {
        "id": "V1P2NYcCTXhm",
        "colab": {
          "base_uri": "https://localhost:8080/"
        },
        "outputId": "08e88088-7af6-4c33-aabf-b20a17c61775"
      },
      "execution_count": null,
      "outputs": [
        {
          "output_type": "stream",
          "name": "stdout",
          "text": [
            "[1. 1. 1. 1. 1.]\n"
          ]
        }
      ]
    },
    {
      "cell_type": "markdown",
      "source": [
        "в) Получите первые два элемента каждой строки из двумерного массива единиц:"
      ],
      "metadata": {
        "id": "5KgLWq-dTXqb"
      }
    },
    {
      "cell_type": "code",
      "source": [
        "ones_5x5[:,0:2]\n"
      ],
      "metadata": {
        "id": "4WcPrgnPTXzU",
        "colab": {
          "base_uri": "https://localhost:8080/"
        },
        "outputId": "25c6eccb-c8e8-44d2-e560-68a64203e983"
      },
      "execution_count": null,
      "outputs": [
        {
          "output_type": "execute_result",
          "data": {
            "text/plain": [
              "array([[1., 1.],\n",
              "       [1., 1.],\n",
              "       [1., 1.],\n",
              "       [1., 1.],\n",
              "       [1., 1.]])"
            ]
          },
          "metadata": {},
          "execution_count": 8
        }
      ]
    },
    {
      "cell_type": "markdown",
      "source": [
        "### **Задание №3. Операции над массивами:**"
      ],
      "metadata": {
        "id": "FgQeTh6HT0IS"
      }
    },
    {
      "cell_type": "markdown",
      "source": [
        "   а) Прибавьте 10 ко всем элементам одномерного массива нулей:\n"
      ],
      "metadata": {
        "id": "F82FPZACT5oN"
      }
    },
    {
      "cell_type": "code",
      "source": [
        "zeros_1x10_plus_10 = zeros_1x10 + 10\n",
        "print(zeros_1x10_plus_10)"
      ],
      "metadata": {
        "id": "m9fI1QqDT0Rt",
        "colab": {
          "base_uri": "https://localhost:8080/"
        },
        "outputId": "739ef61c-3ce4-47ae-b1dc-70034e75ad23"
      },
      "execution_count": null,
      "outputs": [
        {
          "output_type": "stream",
          "name": "stdout",
          "text": [
            "[10. 10. 10. 10. 10. 10. 10. 10. 10. 10.]\n"
          ]
        }
      ]
    },
    {
      "cell_type": "markdown",
      "source": [
        "   б) Умножьте каждый элемент двумерного массива единиц на 3:\n"
      ],
      "metadata": {
        "id": "gpQNryfsT0cG"
      }
    },
    {
      "cell_type": "code",
      "source": [
        "ones_5x5_multiply_3 = ones_5x5 * 3\n",
        "print(ones_5x5_multiply_3)"
      ],
      "metadata": {
        "id": "R12ZIAB2T0uf",
        "colab": {
          "base_uri": "https://localhost:8080/"
        },
        "outputId": "55c06528-2e9c-4d4a-848e-2189e418297f"
      },
      "execution_count": null,
      "outputs": [
        {
          "output_type": "stream",
          "name": "stdout",
          "text": [
            "[[3. 3. 3. 3. 3.]\n",
            " [3. 3. 3. 3. 3.]\n",
            " [3. 3. 3. 3. 3.]\n",
            " [3. 3. 3. 3. 3.]\n",
            " [3. 3. 3. 3. 3.]]\n"
          ]
        }
      ]
    },
    {
      "cell_type": "markdown",
      "source": [
        "   в) Вычислите сумму всех элементов в массиве 3x3x3 со случайными значениями:"
      ],
      "metadata": {
        "id": "8SqSUA7WT04G"
      }
    },
    {
      "cell_type": "code",
      "source": [
        "random_3x3x3_sum = np.sum(random_3x3x3)\n",
        "print(random_3x3x3_sum)"
      ],
      "metadata": {
        "id": "kaeUhPVwT1CH",
        "colab": {
          "base_uri": "https://localhost:8080/"
        },
        "outputId": "d847e2f0-80ec-4704-e09a-1ae936853984"
      },
      "execution_count": null,
      "outputs": [
        {
          "output_type": "stream",
          "name": "stdout",
          "text": [
            "12.155115280156215\n"
          ]
        }
      ]
    },
    {
      "cell_type": "markdown",
      "source": [
        "### **Задание №4. Использование функций и методов NumPy:**\n"
      ],
      "metadata": {
        "id": "HXn8PQr9T1NU"
      }
    },
    {
      "cell_type": "markdown",
      "source": [
        "   а) Найдите максимальное и минимальное значения в массиве 3x3x3:\n"
      ],
      "metadata": {
        "id": "oaxWxrQRUkEU"
      }
    },
    {
      "cell_type": "code",
      "source": [
        "random_3x3x3_max = np.max(random_3x3x3)\n",
        "print(f'max:{random_3x3x3_max}')\n",
        "random_3x3x3_min = np.min(random_3x3x3)\n",
        "print(f'min:{random_3x3x3_min}')"
      ],
      "metadata": {
        "id": "PERZ4zSHUldF",
        "colab": {
          "base_uri": "https://localhost:8080/"
        },
        "outputId": "9cd6127a-3715-48cb-e2ef-b24f73232772"
      },
      "execution_count": null,
      "outputs": [
        {
          "output_type": "stream",
          "name": "stdout",
          "text": [
            "max:0.9426694845363298\n",
            "min:0.00041383546728157583\n"
          ]
        }
      ]
    },
    {
      "cell_type": "markdown",
      "source": [
        "   б) Вычислите среднее значение всех элементов в одномерном массиве нулей после добавления к ним числа 10:\n"
      ],
      "metadata": {
        "id": "EayPENXwUlms"
      }
    },
    {
      "cell_type": "code",
      "source": [
        "zeros_1x10_plus_10_mean = np.mean(zeros_1x10_plus_10)\n",
        "print(f'mean:{zeros_1x10_plus_10_mean}')"
      ],
      "metadata": {
        "id": "iJNG1XfCUlzN",
        "colab": {
          "base_uri": "https://localhost:8080/"
        },
        "outputId": "c536b2f8-4673-4e94-a475-8cfa2aaf246b"
      },
      "execution_count": null,
      "outputs": [
        {
          "output_type": "stream",
          "name": "stdout",
          "text": [
            "mean:10.0\n"
          ]
        }
      ]
    },
    {
      "cell_type": "markdown",
      "source": [
        "   в) Используйте функцию `np.reshape` для изменения формы одномерного массива нулей в двумерный массив 2x5:"
      ],
      "metadata": {
        "id": "3z_yaICNUl7R"
      }
    },
    {
      "cell_type": "code",
      "source": [
        "zeros_2x5 = np.reshape(zeros_1x10, (2,5))\n",
        "print(zeros_2x5)"
      ],
      "metadata": {
        "id": "ioynkOn4T1XS",
        "colab": {
          "base_uri": "https://localhost:8080/"
        },
        "outputId": "a07acbb1-15e3-4865-92c5-02125eba91be"
      },
      "execution_count": null,
      "outputs": [
        {
          "output_type": "stream",
          "name": "stdout",
          "text": [
            "[[0. 0. 0. 0. 0.]\n",
            " [0. 0. 0. 0. 0.]]\n"
          ]
        }
      ]
    },
    {
      "cell_type": "markdown",
      "source": [
        "### **Задание №5. Логическая индексация:**"
      ],
      "metadata": {
        "id": "helc8jP2XVZx"
      }
    },
    {
      "cell_type": "markdown",
      "source": [
        "а) Создайте двумерный массив 4x4 со случайными целыми числами от 0 до 100. Затем выберите из этого массива все элементы, которые больше 70:"
      ],
      "metadata": {
        "id": "p6zDSpnvXlz9"
      }
    },
    {
      "cell_type": "code",
      "source": [
        "random_4x4_0_100 = np.random.randint(0,101,(4,4))\n",
        "print(f'Исходный: {random_4x4_0_100}')\n",
        "print(f'Больше 70 {random_4x4_0_100[random_4x4_0_100>70]}')"
      ],
      "metadata": {
        "id": "93u2gqeqXlQP",
        "colab": {
          "base_uri": "https://localhost:8080/"
        },
        "outputId": "7e5b61db-116d-4e89-911c-66d99ca50e09"
      },
      "execution_count": null,
      "outputs": [
        {
          "output_type": "stream",
          "name": "stdout",
          "text": [
            "Исходный: [[55 76 88 49]\n",
            " [10 79 51 53]\n",
            " [17 84 96 18]\n",
            " [38 13 38 71]]\n",
            "Больше 70 [76 88 79 84 96 71]\n"
          ]
        }
      ]
    },
    {
      "cell_type": "markdown",
      "source": [
        "б) Значения элементов, которые меньше 50, замените на 0:"
      ],
      "metadata": {
        "id": "l1i_sIHzXn5W"
      }
    },
    {
      "cell_type": "code",
      "source": [
        "random_4x4_0_100[random_4x4_0_100<50] = 0\n",
        "print(f'Замена значений больше 50 на 0: \\n {random_4x4_0_100}')"
      ],
      "metadata": {
        "id": "iWzeoWw1Xhxw",
        "colab": {
          "base_uri": "https://localhost:8080/"
        },
        "outputId": "4c83d84c-c75f-46e1-cabe-fdbb0710123c"
      },
      "execution_count": null,
      "outputs": [
        {
          "output_type": "stream",
          "name": "stdout",
          "text": [
            "Замена значений больше 50 на 0: \n",
            " [[55 76 88  0]\n",
            " [ 0 79 51 53]\n",
            " [ 0 84 96  0]\n",
            " [ 0  0  0 71]]\n"
          ]
        }
      ]
    },
    {
      "cell_type": "markdown",
      "source": [
        "### **Задание №6. Линейная алгебра:**"
      ],
      "metadata": {
        "id": "NJ1lWy6-N5m_"
      }
    },
    {
      "cell_type": "markdown",
      "source": [
        "   а) Создайте два массива размером 3x3 и выполните их матричное умножение:\n"
      ],
      "metadata": {
        "id": "jaQIn50xLamu"
      }
    },
    {
      "cell_type": "code",
      "source": [
        "random_3x3_1 = np.random.rand(3,3)\n",
        "random_3x3_2 = np.random.rand(3,3)\n",
        "matrix_multiplication = np.dot(random_3x3_1, random_3x3_2)\n",
        "print(f'First: \\n {random_3x3_1}')\n",
        "print(f'Second: \\n {random_3x3_2}')\n",
        "print(f'Multiplication: \\n {matrix_multiplication}')"
      ],
      "metadata": {
        "id": "g6eIJi9gLZpP",
        "colab": {
          "base_uri": "https://localhost:8080/"
        },
        "outputId": "61e1e197-59e8-4e27-c3ac-55e1abb15495"
      },
      "execution_count": null,
      "outputs": [
        {
          "output_type": "stream",
          "name": "stdout",
          "text": [
            "First: \n",
            " [[0.36903855 0.26010333 0.6273003 ]\n",
            " [0.80730668 0.34442119 0.79807232]\n",
            " [0.41951563 0.23683847 0.1042593 ]]\n",
            "Second: \n",
            " [[0.48589416 0.54167374 0.82534364]\n",
            " [0.97132238 0.95181204 0.01877288]\n",
            " [0.81371841 0.2250651  0.60007836]]\n",
            "Multiplication: \n",
            " [[0.94240366 0.58865137 0.68589584]\n",
            " [1.37621576 0.94473929 1.15167714]\n",
            " [0.51872441 0.47613144 0.41325445]]\n"
          ]
        }
      ]
    },
    {
      "cell_type": "markdown",
      "source": [
        "   б) Найдите обратную матрицу для созданного двумерного массива 3x3:"
      ],
      "metadata": {
        "id": "sU9iKaD4LZ9y"
      }
    },
    {
      "cell_type": "code",
      "execution_count": null,
      "metadata": {
        "id": "FOvGFepkJEcl",
        "colab": {
          "base_uri": "https://localhost:8080/"
        },
        "outputId": "79ced8de-a8a5-4017-f7c8-4fb767b91596"
      },
      "outputs": [
        {
          "output_type": "stream",
          "name": "stdout",
          "text": [
            "Inverted first: \n",
            " [[-4.03002013  3.19681395 -0.22305842]\n",
            " [ 6.59718267 -5.9141814   5.57772649]\n",
            " [ 1.22952846  0.57157747 -2.18151991]]\n"
          ]
        }
      ],
      "source": [
        "inverted_random_3x3_1 = np.linalg.inv(random_3x3_1)\n",
        "print(f'Inverted first: \\n {inverted_random_3x3_1}')"
      ]
    },
    {
      "cell_type": "markdown",
      "source": [
        "## **Блок №2. Средний уровень**"
      ],
      "metadata": {
        "id": "S_uDFvYKLIne"
      }
    },
    {
      "cell_type": "markdown",
      "source": [
        "### **Задание №1. Работа с многомерными массивами:**\n",
        "   \n"
      ],
      "metadata": {
        "id": "qn-Boi-YZIpm"
      }
    },
    {
      "cell_type": "markdown",
      "source": [
        "а) Создайте трехмерный массив со случайными целыми числами и выполните транспонирование так, чтобы порядок осей стал обратным:"
      ],
      "metadata": {
        "id": "JOXkzj-tZ94e"
      }
    },
    {
      "cell_type": "code",
      "source": [
        "randint_3x3x3 = np.random.randint(100,size=(3,3,3))\n",
        "randint_3x3x3_transposed = np.transpose(randint_3x3x3, (2,1,0))\n",
        "print(f'Исходный: \\n {randint_3x3x3}')\n",
        "print(f'Транспонированный: \\n {randint_3x3x3_transposed}')"
      ],
      "metadata": {
        "id": "ioFsaDNUZ7ns",
        "colab": {
          "base_uri": "https://localhost:8080/"
        },
        "outputId": "ad686ec9-403c-4ce3-9541-1126365fb6f2"
      },
      "execution_count": null,
      "outputs": [
        {
          "output_type": "stream",
          "name": "stdout",
          "text": [
            "Исходный: \n",
            " [[[51 77 42]\n",
            "  [68 45 14]\n",
            "  [51 91 38]]\n",
            "\n",
            " [[56 95  0]\n",
            "  [80 26 86]\n",
            "  [84  2 41]]\n",
            "\n",
            " [[37 99 72]\n",
            "  [82 11 21]\n",
            "  [53  8 14]]]\n",
            "Транспонированный: \n",
            " [[[51 56 37]\n",
            "  [68 80 82]\n",
            "  [51 84 53]]\n",
            "\n",
            " [[77 95 99]\n",
            "  [45 26 11]\n",
            "  [91  2  8]]\n",
            "\n",
            " [[42  0 72]\n",
            "  [14 86 21]\n",
            "  [38 41 14]]]\n"
          ]
        }
      ]
    },
    {
      "cell_type": "markdown",
      "source": [
        "   б) Измените форму массива из предыдущего пункта так, чтобы получился двумерный массив (подумайте, как сохранить данные без потерь):"
      ],
      "metadata": {
        "id": "yKdG54bWZi_c"
      }
    },
    {
      "cell_type": "code",
      "source": [
        "randint_3x3 = np.reshape(randint_3x3x3, (9,3))\n",
        "print(f'Трехмерный: \\n {randint_3x3x3}')\n",
        "print(f'Двумерный: \\n {randint_3x3}')"
      ],
      "metadata": {
        "id": "w58gedcvZjVH",
        "colab": {
          "base_uri": "https://localhost:8080/"
        },
        "outputId": "a421eb0e-7d03-4950-ffc9-369e17964864"
      },
      "execution_count": null,
      "outputs": [
        {
          "output_type": "stream",
          "name": "stdout",
          "text": [
            "Трехмерный: \n",
            " [[[51 77 42]\n",
            "  [68 45 14]\n",
            "  [51 91 38]]\n",
            "\n",
            " [[56 95  0]\n",
            "  [80 26 86]\n",
            "  [84  2 41]]\n",
            "\n",
            " [[37 99 72]\n",
            "  [82 11 21]\n",
            "  [53  8 14]]]\n",
            "Двумерный: \n",
            " [[51 77 42]\n",
            " [68 45 14]\n",
            " [51 91 38]\n",
            " [56 95  0]\n",
            " [80 26 86]\n",
            " [84  2 41]\n",
            " [37 99 72]\n",
            " [82 11 21]\n",
            " [53  8 14]]\n"
          ]
        }
      ]
    },
    {
      "cell_type": "markdown",
      "source": [
        "### **Задание №2. Маскирование и фильтрация:**\n",
        "   а) Создайте массив со случайными целыми числами от -10 до 10. Затем, используя маскирование, замените все отрицательные числа на 0:\n"
      ],
      "metadata": {
        "id": "uDZ39yoRZLT9"
      }
    },
    {
      "cell_type": "code",
      "source": [
        "randint_minus_plus_10 = np.random.randint(-10,10, (1,20))\n",
        "print(f'Исходный: \\n {randint_minus_plus_10}')\n",
        "randint_minus_plus_10_masked =  np.where(randint_minus_plus_10 < 0, 0, randint_minus_plus_10)\n",
        "print(f'Маскированный: \\n {randint_minus_plus_10_masked}')"
      ],
      "metadata": {
        "id": "1s_ih9NSaILQ",
        "colab": {
          "base_uri": "https://localhost:8080/"
        },
        "outputId": "40ed95df-28a7-4588-bace-efbef7538c86"
      },
      "execution_count": null,
      "outputs": [
        {
          "output_type": "stream",
          "name": "stdout",
          "text": [
            "Исходный: \n",
            " [[  7   4   9 -10  -7   7  -7  -2  -1  -8  -3   9   3  -6   8   1  -1   7\n",
            "   -2  -3]]\n",
            "Маскированный: \n",
            " [[7 4 9 0 0 7 0 0 0 0 0 9 3 0 8 1 0 7 0 0]]\n"
          ]
        }
      ]
    },
    {
      "cell_type": "markdown",
      "source": [
        "   б) Создайте двумерный массив и найдите значения, которые больше среднего значения по всему массиву, и замените их на 1:"
      ],
      "metadata": {
        "id": "RIHVtToOZj-g"
      }
    },
    {
      "cell_type": "code",
      "source": [
        "random_3x3 = np.random.rand(3,3)\n",
        "random_3x3_above_average_1 = np.where(random_3x3 >np.mean(random_3x3), 1, random_3x3)\n",
        "print(f'Исходный: \\n {random_3x3}')\n",
        "print(f'Больше среднего в 1: \\n {random_3x3_above_average_1}')"
      ],
      "metadata": {
        "id": "qJYIbewpZklS",
        "colab": {
          "base_uri": "https://localhost:8080/"
        },
        "outputId": "a2777430-02c5-425b-bd8e-7793b2411d15"
      },
      "execution_count": null,
      "outputs": [
        {
          "output_type": "stream",
          "name": "stdout",
          "text": [
            "Исходный: \n",
            " [[0.22963556 0.28953015 0.44782803]\n",
            " [0.07918035 0.29955725 0.69596475]\n",
            " [0.40851316 0.19301942 0.34838491]]\n",
            "Больше среднего в 1: \n",
            " [[0.22963556 0.28953015 1.        ]\n",
            " [0.07918035 0.29955725 1.        ]\n",
            " [1.         0.19301942 1.        ]]\n"
          ]
        }
      ]
    },
    {
      "cell_type": "markdown",
      "source": [
        "### **Задание №3. Агрегирование данных:**\n"
      ],
      "metadata": {
        "id": "jzUTb1UdZPvc"
      }
    },
    {
      "cell_type": "markdown",
      "source": [
        "   а) Создайте двумерный массив со случайными числами. Вычислите сумму, среднее, максимум и минимум по столбцам и строкам:\n"
      ],
      "metadata": {
        "id": "xncfxKXjZnQd"
      }
    },
    {
      "cell_type": "code",
      "source": [
        "random_3x3 = np.random.rand(3,3)\n",
        "print(f'Исходный : \\n {random_3x3}')\n",
        "random_3x3_mean_rows = np.reshape(np.mean(random_3x3, axis = 0), (3,1))\n",
        "random_3x3_mean_columns = np.mean(random_3x3, axis = 1)\n",
        "print(f'Среднее по строкам: \\n {random_3x3_mean_rows}')\n",
        "print(f'Среднее по столбцам: \\n {random_3x3_mean_columns}')\n",
        "random_3x3_max_rows = np.reshape(np.max(random_3x3, axis = 0), (3,1))\n",
        "random_3x3_max_columns = np.max(random_3x3, axis = 1)\n",
        "print(f'Максимум по строкам: \\n {random_3x3_max_rows}')\n",
        "print(f'Максимум по столбцам: \\n {random_3x3_max_columns}')\n",
        "random_3x3_min_rows = np.reshape(np.min(random_3x3, axis = 0), (3,1))\n",
        "random_3x3_min_columns = np.min(random_3x3, axis = 1)\n",
        "print(f'Минимум по строкам: \\n {random_3x3_min_rows}')\n",
        "print(f'Минимум по столбцам: \\n {random_3x3_min_columns}')"
      ],
      "metadata": {
        "id": "Jhd__GiPZons",
        "colab": {
          "base_uri": "https://localhost:8080/"
        },
        "outputId": "482cd161-87dd-47c8-f12a-06809844c0ad"
      },
      "execution_count": null,
      "outputs": [
        {
          "output_type": "stream",
          "name": "stdout",
          "text": [
            "Исходный : \n",
            " [[0.66356378 0.05830694 0.64886055]\n",
            " [0.68293714 0.42129957 0.37389677]\n",
            " [0.54942515 0.18568582 0.22470857]]\n",
            "Среднее по строкам: \n",
            " [[0.63197535]\n",
            " [0.22176411]\n",
            " [0.41582197]]\n",
            "Среднее по столбцам: \n",
            " [0.45691042 0.49271116 0.31993985]\n",
            "Максимум по строкам: \n",
            " [[0.68293714]\n",
            " [0.42129957]\n",
            " [0.64886055]]\n",
            "Максимум по столбцам: \n",
            " [0.66356378 0.68293714 0.54942515]\n",
            "Минимум по строкам: \n",
            " [[0.54942515]\n",
            " [0.05830694]\n",
            " [0.22470857]]\n",
            "Минимум по столбцам: \n",
            " [0.05830694 0.37389677 0.18568582]\n"
          ]
        }
      ]
    },
    {
      "cell_type": "markdown",
      "source": [
        "   б) Сгенерируйте массив случайных чисел и найдите дисперсию и стандартное отклонение:"
      ],
      "metadata": {
        "id": "Z1ZQ_12kZndL"
      }
    },
    {
      "cell_type": "code",
      "source": [
        "random_3x3 = np.random.rand(3,3)\n",
        "print(f'Исходный: \\n {random_3x3}')\n",
        "print(f'Дисперсия: \\n {np.var(random_3x3):.4f}')\n",
        "print(f'Стандартное отклонение: \\n {np.std(random_3x3):.4f}')"
      ],
      "metadata": {
        "id": "wn7uuevpZpLX",
        "colab": {
          "base_uri": "https://localhost:8080/"
        },
        "outputId": "b5667e2a-64c3-402e-a932-799c40f1579a"
      },
      "execution_count": null,
      "outputs": [
        {
          "output_type": "stream",
          "name": "stdout",
          "text": [
            "Исходный: \n",
            " [[0.30361757 0.22402049 0.05377217]\n",
            " [0.67853141 0.53163502 0.14625989]\n",
            " [0.84433732 0.16534523 0.01724193]]\n",
            "Дисперсия: \n",
            " 0.0748\n",
            "Стандартное отклонение: \n",
            " 0.2736\n"
          ]
        }
      ]
    },
    {
      "cell_type": "markdown",
      "source": [
        "### **Задание №4. Использование функций для работы с матрицами:**"
      ],
      "metadata": {
        "id": "2EvbQaTIZP4D"
      }
    },
    {
      "cell_type": "markdown",
      "source": [
        "   а) Используйте функцию [`np.linalg.eig`](https://numpy.org/doc/stable/reference/generated/numpy.linalg.eig.html#numpy.linalg.eig) для нахождения собственных значений и собственных векторов квадратной матрицы:"
      ],
      "metadata": {
        "id": "ag7Nzl9LZp23"
      }
    },
    {
      "cell_type": "code",
      "source": [
        "random_3x3 = np.random.rand(3,3)\n",
        "eigenvalues, eigenvectors = np.linalg.eig(random_3x3)\n",
        "print(f'Исходный: \\n {random_3x3}')\n",
        "print(f'Собсвтенные значения: \\n {eigenvalues}')\n",
        "print(f'Собсвтенные векторы: \\n {eigenvectors}')"
      ],
      "metadata": {
        "id": "Cbts2xnoZqD8",
        "colab": {
          "base_uri": "https://localhost:8080/"
        },
        "outputId": "4dbf6301-246a-4f2b-c594-4827c57306a7"
      },
      "execution_count": null,
      "outputs": [
        {
          "output_type": "stream",
          "name": "stdout",
          "text": [
            "Исходный: \n",
            " [[0.92088996 0.53990332 0.23934678]\n",
            " [0.40872758 0.68908115 0.42089649]\n",
            " [0.71904433 0.96733731 0.85648816]]\n",
            "Собсвтенные значения: \n",
            " [1.8430284  0.49227399 0.13115687]\n",
            "Собсвтенные векторы: \n",
            " [[ 0.45938819  0.74894433  0.27978089]\n",
            " [ 0.44343351 -0.34331587 -0.7003574 ]\n",
            " [ 0.76962927 -0.56675974  0.65667508]]\n"
          ]
        }
      ]
    },
    {
      "cell_type": "markdown",
      "source": [
        "   б) Решите систему линейных уравнений Ax = B, используя `np.linalg.solve`, где A и B — матрицы, заданные вами:"
      ],
      "metadata": {
        "id": "MUsFnJCgZqPV"
      }
    },
    {
      "cell_type": "code",
      "source": [
        "a = np.array([[1,2],[3,5]])\n",
        "b = np.array([1,2])\n",
        "x = np.linalg.solve(a,b)\n",
        "print(f'Решение линейного уравнения: {x}')"
      ],
      "metadata": {
        "id": "6OoOaY0CZqaP",
        "colab": {
          "base_uri": "https://localhost:8080/"
        },
        "outputId": "7a3b1a97-b53c-4012-b62e-34f2ee276a10"
      },
      "execution_count": null,
      "outputs": [
        {
          "output_type": "stream",
          "name": "stdout",
          "text": [
            "Решение линейного уравнения: [-1.  1.]\n"
          ]
        }
      ]
    },
    {
      "cell_type": "markdown",
      "source": [
        "### **Задание №5. Работа с датасетом:**"
      ],
      "metadata": {
        "id": "UNeCynnjZQCt"
      }
    },
    {
      "cell_type": "markdown",
      "source": [
        "   а) Загрузите датасет [**fetch california housing**](https://www.kaggle.com/datasets/harrywang/housing):"
      ],
      "metadata": {
        "id": "FNVx80zxZrGU"
      }
    },
    {
      "cell_type": "code",
      "source": [
        "import numpy as np\n",
        "from sklearn.datasets import fetch_california_housing\n",
        "\n",
        "dataset = fetch_california_housing().data\n",
        "dataset = np.asarray(dataset, np.float64)\n",
        "ds = dataset"
      ],
      "metadata": {
        "id": "USeYuJeTcIpN"
      },
      "execution_count": null,
      "outputs": []
    },
    {
      "cell_type": "markdown",
      "source": [
        "б) Выведите первые 5 элементов датасета:"
      ],
      "metadata": {
        "id": "Mtk3ZvqmfCD-"
      }
    },
    {
      "cell_type": "code",
      "source": [
        "ds_first_5 = ds[:5]\n",
        "print(f'Первые 5 элементов датасета: \\n {ds_first_5}')"
      ],
      "metadata": {
        "id": "T-1eUOl7fHH1",
        "colab": {
          "base_uri": "https://localhost:8080/"
        },
        "outputId": "43270ba7-50b0-4a22-de50-2719e0f30ad0"
      },
      "execution_count": null,
      "outputs": [
        {
          "output_type": "stream",
          "name": "stdout",
          "text": [
            "Первые 5 элементов датасета: \n",
            " [[ 8.32520000e+00  4.10000000e+01  6.98412698e+00  1.02380952e+00\n",
            "   3.22000000e+02  2.55555556e+00  3.78800000e+01 -1.22230000e+02]\n",
            " [ 8.30140000e+00  2.10000000e+01  6.23813708e+00  9.71880492e-01\n",
            "   2.40100000e+03  2.10984183e+00  3.78600000e+01 -1.22220000e+02]\n",
            " [ 7.25740000e+00  5.20000000e+01  8.28813559e+00  1.07344633e+00\n",
            "   4.96000000e+02  2.80225989e+00  3.78500000e+01 -1.22240000e+02]\n",
            " [ 5.64310000e+00  5.20000000e+01  5.81735160e+00  1.07305936e+00\n",
            "   5.58000000e+02  2.54794521e+00  3.78500000e+01 -1.22250000e+02]\n",
            " [ 3.84620000e+00  5.20000000e+01  6.28185328e+00  1.08108108e+00\n",
            "   5.65000000e+02  2.18146718e+00  3.78500000e+01 -1.22250000e+02]]\n"
          ]
        }
      ]
    },
    {
      "cell_type": "markdown",
      "source": [
        "в) Выведите размерность датасета:"
      ],
      "metadata": {
        "id": "BLJAdC1LeJ1s"
      }
    },
    {
      "cell_type": "code",
      "source": [
        "print(f'Размерность массива: {ds.shape}')"
      ],
      "metadata": {
        "id": "s6KvaFj0cLlY",
        "colab": {
          "base_uri": "https://localhost:8080/"
        },
        "outputId": "3c99a955-4288-433c-e111-f1e0666f10b9"
      },
      "execution_count": null,
      "outputs": [
        {
          "output_type": "stream",
          "name": "stdout",
          "text": [
            "Размерность массива: (20640, 8)\n"
          ]
        }
      ]
    },
    {
      "cell_type": "markdown",
      "source": [
        "г) Выведите общее количество элементов датасета:"
      ],
      "metadata": {
        "id": "_k_RyEbneb_u"
      }
    },
    {
      "cell_type": "code",
      "source": [
        "print(f'Количество элементов в  массиве: {ds.size}')"
      ],
      "metadata": {
        "id": "-4-6azzwcZgx",
        "colab": {
          "base_uri": "https://localhost:8080/"
        },
        "outputId": "e56ca608-fd69-47ec-add6-4076c09b49a1"
      },
      "execution_count": null,
      "outputs": [
        {
          "output_type": "stream",
          "name": "stdout",
          "text": [
            "Размерность массива: 165120\n"
          ]
        }
      ]
    },
    {
      "cell_type": "markdown",
      "source": [
        "д) Выведите тип данных элементов датасета:"
      ],
      "metadata": {
        "id": "exMDldCMeoOu"
      }
    },
    {
      "cell_type": "code",
      "source": [
        "print(f'Тип данных элементов массива: {ds.dtype}')"
      ],
      "metadata": {
        "id": "Re6VGlefe2mp",
        "colab": {
          "base_uri": "https://localhost:8080/"
        },
        "outputId": "4b8da33c-db5f-4bd5-83ce-df2a3ffeb11f"
      },
      "execution_count": null,
      "outputs": [
        {
          "output_type": "stream",
          "name": "stdout",
          "text": [
            "Тип данных элементов массива: float64\n"
          ]
        }
      ]
    },
    {
      "cell_type": "markdown",
      "source": [
        "е) Выведите количество измерений (осей) датасета:"
      ],
      "metadata": {
        "id": "-G5DnCl5eoY4"
      }
    },
    {
      "cell_type": "code",
      "source": [
        "print(f'Количество измерений массива: {ds.ndim}')"
      ],
      "metadata": {
        "id": "vzMDlJ9je2Cl",
        "colab": {
          "base_uri": "https://localhost:8080/"
        },
        "outputId": "d6cb1112-73a1-4f1d-9f6d-34b23e2f0137"
      },
      "execution_count": null,
      "outputs": [
        {
          "output_type": "stream",
          "name": "stdout",
          "text": [
            "Количество измерений массива: 2\n"
          ]
        }
      ]
    },
    {
      "cell_type": "markdown",
      "source": [
        "ё) Выведите общее количество байт, занимаемых элементами датасета:"
      ],
      "metadata": {
        "id": "5C4KuSG1eoiQ"
      }
    },
    {
      "cell_type": "code",
      "source": [
        "print(f'Общее количество байт, занимаемых элементами массива: {ds.nbytes}')"
      ],
      "metadata": {
        "id": "fJ3OCXgufujn",
        "colab": {
          "base_uri": "https://localhost:8080/"
        },
        "outputId": "7b867dde-a13e-421c-efc0-f340475cab48"
      },
      "execution_count": null,
      "outputs": [
        {
          "output_type": "stream",
          "name": "stdout",
          "text": [
            "Общее количество байт, занимаемых элементами массива: 1320960\n"
          ]
        }
      ]
    },
    {
      "cell_type": "markdown",
      "source": [
        "ж) Выведите размер одного элемента датасета в байтах:"
      ],
      "metadata": {
        "id": "Qm7a9tdCftvd"
      }
    },
    {
      "cell_type": "code",
      "source": [
        "print(f'Размер одного элемента массива: {ds.itemsize}')"
      ],
      "metadata": {
        "id": "1VC6YqJIZrRb",
        "colab": {
          "base_uri": "https://localhost:8080/"
        },
        "outputId": "41bfb091-52f7-4e3b-f5d8-16ebf552f526"
      },
      "execution_count": null,
      "outputs": [
        {
          "output_type": "stream",
          "name": "stdout",
          "text": [
            "Размер одного элемента массива: 8\n"
          ]
        }
      ]
    },
    {
      "cell_type": "markdown",
      "source": [
        " з) Выполните нормализацию данных в **столбцах**, приведя их к диапазону от 0 до 1, написав для этого отдельную функцию, реализующую алгоритм MinMaxScaler:"
      ],
      "metadata": {
        "id": "SCKdhlineGVl"
      }
    },
    {
      "cell_type": "markdown",
      "source": [
        "\n",
        "Алгоритм MinMaxScaler является методом масштабирования, который линейно преобразует данные так, чтобы они помещались в заданный диапазон, обычно между 0 и 1. Это достигается путем вычитания минимального значения признака из каждого значения, а затем деления разности на размах значений (максимальное значение минус минимальное значение). Преобразование можно выразить следующей формулой:\n",
        "\n",
        "$X_{\\text{scaled}} = \\frac{X - X_{\\min}}{X_{\\max} - X_{\\min}}$\n",
        "\n",
        "Где:\n",
        "- $X$ — исходное значение признака,\n",
        "- $X_{\\min}$ — минимальное значение этого признака в наборе данных,\n",
        "- $X_{\\max}$ — максимальное значение признака в наборе данных,\n",
        "- $X_{\\text{scaled}}$ — масштабированное значение признака.\n",
        "\n",
        "Если требуется масштабировать данные в другой диапазон, например, $[a, b]$, то формула модифицируется:\n",
        "\n",
        "$X_{\\text{scaled}} = a + \\frac{(X - X_{\\min}) \\times (b - a)}{X_{\\max} - X_{\\min}}$"
      ],
      "metadata": {
        "id": "TXJTWqPOgilw"
      }
    },
    {
      "cell_type": "code",
      "source": [
        "def MinMaxScaler(ds, axis):\n",
        "  ds_column_min = np.min(ds, axis=axis)\n",
        "  ds_column_max = np.max(ds, axis=axis)\n",
        "  ds_column_range = ds_column_max - ds_column_min\n",
        "  print(f'Минимум по столбцам: {ds_column_min}')\n",
        "  print(f'Максимум по столбцам: {ds_column_max}')\n",
        "  print(f'Максимум минус минимум по столбцам: {ds_column_range}')\n",
        "  min_max_scaled = (ds - ds_column_min)/ds_column_range\n",
        "  print(f'Нормализованный массив: \\n {min_max_scaled}')\n",
        "\n",
        "MinMaxScaler(ds, 0)"
      ],
      "metadata": {
        "id": "-8jxlJozhQT3",
        "colab": {
          "base_uri": "https://localhost:8080/"
        },
        "outputId": "aaa98e42-6690-4ff3-d017-adca19f8c637"
      },
      "execution_count": null,
      "outputs": [
        {
          "output_type": "stream",
          "name": "stdout",
          "text": [
            "Минимум по столбцам: [   0.4999        1.            0.84615385    0.33333333    3.\n",
            "    0.69230769   32.54       -124.35      ]\n",
            "Максимум по столбцам: [ 1.50001000e+01  5.20000000e+01  1.41909091e+02  3.40666667e+01\n",
            "  3.56820000e+04  1.24333333e+03  4.19500000e+01 -1.14310000e+02]\n",
            "Максимум минус минимум по столбцам: [1.45002000e+01 5.10000000e+01 1.41062937e+02 3.37333333e+01\n",
            " 3.56790000e+04 1.24264103e+03 9.41000000e+00 1.00400000e+01]\n",
            "Нормализованный массив: \n",
            " [[0.53966842 0.78431373 0.0435123  ... 0.00149943 0.5674814  0.21115538]\n",
            " [0.53802706 0.39215686 0.03822395 ... 0.00114074 0.565356   0.21215139]\n",
            " [0.46602805 1.         0.05275646 ... 0.00169796 0.5642933  0.21015936]\n",
            " ...\n",
            " [0.08276438 0.31372549 0.03090386 ... 0.0013144  0.73219979 0.31175299]\n",
            " [0.09429525 0.33333333 0.03178269 ... 0.0011515  0.73219979 0.30179283]\n",
            " [0.13025338 0.29411765 0.03125246 ... 0.00154886 0.72582359 0.30976096]]\n"
          ]
        }
      ]
    },
    {
      "cell_type": "markdown",
      "source": [
        "   и) Используйте логическую индексацию для фильтрации данных по заданному условию (например, выберите все строки, где значение в определённом столбце превышает среднее значение этого столбца и выведите их значение):"
      ],
      "metadata": {
        "id": "CD6Cw3NiZrbb"
      }
    },
    {
      "cell_type": "code",
      "source": [
        "i = 1\n",
        "ds_column_mean = np.mean(ds[:,i], axis=0)\n",
        "print(f'Среднее значение {i} столбца: \\n {ds_column_mean}')\n",
        "ds_filtered_rows = ds[ds[:,i] > ds_column_mean]\n",
        "print(f'Строки, в которых значение в {i} столбце превышает значение этого столбца: \\n {ds_filtered_rows}')\n"
      ],
      "metadata": {
        "id": "ycAl9a4GZrlx",
        "colab": {
          "base_uri": "https://localhost:8080/"
        },
        "outputId": "827aab21-fdd4-482a-ace9-3f29d3382fd3"
      },
      "execution_count": null,
      "outputs": [
        {
          "output_type": "stream",
          "name": "stdout",
          "text": [
            "Среднее значение 1 столбца: \n",
            " 28.639486434108527\n",
            "Строки, в которых значение в 1 столбце превышает значение этого столбца: \n",
            " [[   8.3252       41.            6.98412698 ...    2.55555556\n",
            "    37.88       -122.23      ]\n",
            " [   7.2574       52.            8.28813559 ...    2.80225989\n",
            "    37.85       -122.24      ]\n",
            " [   5.6431       52.            5.8173516  ...    2.54794521\n",
            "    37.85       -122.25      ]\n",
            " ...\n",
            " [   2.8235       32.            5.10132159 ...    2.63436123\n",
            "    39.03       -121.37      ]\n",
            " [   4.125        37.            7.28571429 ...    2.07142857\n",
            "    39.12       -121.52      ]\n",
            " [   2.1667       36.            6.57309942 ...    2.94736842\n",
            "    39.18       -121.43      ]]\n"
          ]
        }
      ]
    },
    {
      "cell_type": "markdown",
      "source": [
        "### **Задание №6. Работа с многомерными данными:**"
      ],
      "metadata": {
        "id": "VuTukXmbYwgV"
      }
    },
    {
      "cell_type": "markdown",
      "source": [
        "Создайте двумерный массив и выполните \"сглаживание\" данных, заменив каждый элемент средним значением его и соседних элементов (по сторонам и по диагонали):"
      ],
      "metadata": {
        "id": "H_dh9nV6Zsdi"
      }
    },
    {
      "cell_type": "markdown",
      "source": [
        "\n",
        "\n",
        "```\n",
        "Original Array:\n",
        "[[1 2 3]\n",
        " [4 5 6]\n",
        " [7 8 9]]\n",
        "Smoothed Array:\n",
        "[[3 3 4]\n",
        " [4 5 5]\n",
        " [6 6 7]]\n",
        "```\n",
        "\n"
      ],
      "metadata": {
        "id": "Nvf05EOZNk7T"
      }
    },
    {
      "cell_type": "code",
      "source": [
        "random_10x10 = np.random.rand(10,10)\n",
        "rows, cols = random_10x10.shape\n",
        "random_10x10_smooth = np.zeros_like(random_10x10)\n",
        "for i in range(rows):\n",
        "        for j in range(cols):\n",
        "            i_min, i_max = max(0, i-1), min(rows, i+2)\n",
        "            j_min, j_max = max(0, j-1), min(cols, j+2)\n",
        "            window = random_10x10[i_min:i_max, j_min:j_max]\n",
        "            random_10x10_smooth[i, j] = np.mean(window)\n",
        "\n",
        "print(f'Исходный: \\n {random_10x10}')\n",
        "print(f'Сглаженный: \\n {random_10x10_smooth}')"
      ],
      "metadata": {
        "id": "fNZ_d_pULPU0",
        "colab": {
          "base_uri": "https://localhost:8080/"
        },
        "outputId": "09a0d212-6443-4146-e812-78ce14d5e263"
      },
      "execution_count": null,
      "outputs": [
        {
          "output_type": "stream",
          "name": "stdout",
          "text": [
            "Исходный: \n",
            " [[0.75012862 0.92612352 0.20540697 0.5357652  0.73000546 0.90402412\n",
            "  0.31818001 0.80183922 0.13393343 0.89036466]\n",
            " [0.74872162 0.53516744 0.41156017 0.99724493 0.60028247 0.57603745\n",
            "  0.19173955 0.37541225 0.18781717 0.12738924]\n",
            " [0.02468627 0.85480303 0.04220092 0.30010948 0.27096091 0.60636991\n",
            "  0.35052001 0.85047287 0.64511994 0.1743632 ]\n",
            " [0.97381677 0.61961254 0.25614066 0.76467613 0.52360739 0.13669172\n",
            "  0.17972333 0.99684839 0.70972086 0.70071628]\n",
            " [0.29378892 0.99072342 0.19432955 0.31130539 0.09806603 0.57799582\n",
            "  0.08056447 0.89437052 0.52819737 0.39614586]\n",
            " [0.63620552 0.04871588 0.73942719 0.11846049 0.55693781 0.96977442\n",
            "  0.95572349 0.23618228 0.1609752  0.07534529]\n",
            " [0.34941583 0.460771   0.95544639 0.57736386 0.85774416 0.58269383\n",
            "  0.4725276  0.56190543 0.24705903 0.14276692]\n",
            " [0.38055152 0.47823904 0.96217076 0.72947751 0.58891112 0.13206616\n",
            "  0.03829158 0.59228712 0.6653218  0.05957509]\n",
            " [0.31778433 0.55123017 0.34920238 0.69511874 0.9861764  0.98416394\n",
            "  0.93736297 0.21468731 0.97833008 0.28589471]\n",
            " [0.04075796 0.00415414 0.48602421 0.93824889 0.21916923 0.08743647\n",
            "  0.4349618  0.9540523  0.98595374 0.44430963]]\n",
            "Сглаженный: \n",
            " [[0.7400353  0.59618472 0.60187804 0.5800442  0.72389327 0.55337818\n",
            "  0.5278721  0.33482027 0.41945933 0.33487612]\n",
            " [0.63993842 0.49986651 0.53426463 0.45483739 0.61342222 0.50534666\n",
            "  0.55273282 0.42833716 0.46519022 0.35983127]\n",
            " [0.62613461 0.49630105 0.53127948 0.4629759  0.53066449 0.38177031\n",
            "  0.47375728 0.49859715 0.52976224 0.42418778]\n",
            " [0.62623849 0.47223357 0.48154457 0.30682183 0.39886475 0.31383329\n",
            "  0.51928412 0.58172642 0.65510614 0.52571059]\n",
            " [0.59381051 0.52808449 0.44926569 0.39588341 0.45083502 0.45323161\n",
            "  0.55865272 0.52692288 0.52205578 0.42851681]\n",
            " [0.46327009 0.51875819 0.4885048  0.48989788 0.51670465 0.57244751\n",
            "  0.59241532 0.45972282 0.36032755 0.25841495]\n",
            " [0.39231646 0.55677146 0.56334135 0.67621548 0.56815882 0.57274113\n",
            "  0.50460577 0.43669706 0.30460202 0.22517389]\n",
            " [0.42299865 0.53386794 0.63989109 0.74462348 0.68152397 0.61999308\n",
            "  0.50177621 0.52308588 0.41642528 0.39649127]\n",
            " [0.29545286 0.39667939 0.5770962  0.66161103 0.59564094 0.48983774\n",
            "  0.48614552 0.64458319 0.57560131 0.56989751]\n",
            " [0.22848165 0.29152553 0.50399642 0.61232331 0.65171894 0.6082118\n",
            "  0.6021108  0.75089137 0.64387129 0.67362204]]\n"
          ]
        }
      ]
    },
    {
      "cell_type": "code",
      "source": [
        "import matplotlib.pyplot as plt\n",
        "\n",
        "def plot_numpy_array(arr, title=\"NumPy Array Visualization\"):\n",
        "    \"\"\"\n",
        "    Визуализирует двумерный массив NumPy в виде тепловой карты.\n",
        "\n",
        "    Параметры:\n",
        "    arr (np.ndarray): Входной двумерный массив\n",
        "    title (str): Заголовок графика\n",
        "    \"\"\"\n",
        "    plt.figure(figsize=(10, 8))\n",
        "    plt.imshow(arr, cmap='viridis')\n",
        "    plt.colorbar(label='Значение')\n",
        "    plt.title(title)\n",
        "    plt.xlabel('Столбец')\n",
        "    plt.ylabel('Строка')\n",
        "    plt.show()\n",
        "\n",
        "plot_numpy_array(random_10x10, \"Исходный\")\n",
        "plot_numpy_array(random_10x10_smooth, \"Сглаженный\")"
      ],
      "metadata": {
        "colab": {
          "base_uri": "https://localhost:8080/",
          "height": 1000
        },
        "id": "NOTAmgarF663",
        "outputId": "dbe775df-6b19-4cf8-934d-6647d03ad135"
      },
      "execution_count": null,
      "outputs": [
        {
          "output_type": "display_data",
          "data": {
            "text/plain": [
              "<Figure size 1000x800 with 2 Axes>"
            ],
            "image/png": "[encoded data removed]"
          },
          "metadata": {}
        },
        {
          "output_type": "display_data",
          "data": {
            "text/plain": [
              "<Figure size 1000x800 with 2 Axes>"
            ],
            "image/png": "[encoded data removed]"
          },
          "metadata": {}
        }
      ]
    }
  ]
}